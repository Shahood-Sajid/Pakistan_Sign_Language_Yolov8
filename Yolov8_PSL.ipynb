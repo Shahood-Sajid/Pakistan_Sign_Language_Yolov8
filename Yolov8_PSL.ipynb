{
 "cells": [
  {
   "cell_type": "code",
   "execution_count": null,
   "id": "4d60d02c",
   "metadata": {},
   "outputs": [],
   "source": [
    "!pip install ultralytics"
   ]
  },
  {
   "cell_type": "code",
   "execution_count": null,
   "id": "87e3b3f1",
   "metadata": {},
   "outputs": [],
   "source": [
    "from ultralytics import YOLO"
   ]
  },
  {
   "cell_type": "code",
   "execution_count": null,
   "id": "87634e19",
   "metadata": {},
   "outputs": [],
   "source": [
    "#loading the yolov8s model\n",
    "psl_model = YOLO('yolov8s.yaml')"
   ]
  },
  {
   "cell_type": "code",
   "execution_count": null,
   "id": "4875ecda",
   "metadata": {},
   "outputs": [],
   "source": [
    "#train the model\n",
    "model_train = psl_model.train(data = 'psl_data.yaml',epochs = 10)"
   ]
  }
 ],
 "metadata": {
  "kernelspec": {
   "display_name": "yolov8_psl",
   "language": "python",
   "name": "yolov8_psl"
  },
  "language_info": {
   "codemirror_mode": {
    "name": "ipython",
    "version": 3
   },
   "file_extension": ".py",
   "mimetype": "text/x-python",
   "name": "python",
   "nbconvert_exporter": "python",
   "pygments_lexer": "ipython3",
   "version": "3.9.13"
  }
 },
 "nbformat": 4,
 "nbformat_minor": 5
}
